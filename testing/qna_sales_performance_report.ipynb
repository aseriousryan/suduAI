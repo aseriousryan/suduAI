{
 "cells": [
  {
   "cell_type": "code",
   "execution_count": 1,
   "metadata": {},
   "outputs": [
    {
     "data": {
      "text/plain": [
       "True"
      ]
     },
     "execution_count": 1,
     "metadata": {},
     "output_type": "execute_result"
    }
   ],
   "source": [
    "import os\n",
    "os.chdir('..')\n",
    "\n",
    "import numpy as np\n",
    "import pandas as pd\n",
    "\n",
    "from utils.mongoDB import MongoDBController\n",
    "from dotenv import load_dotenv\n",
    "\n",
    "load_dotenv('./.env.development')"
   ]
  },
  {
   "cell_type": "code",
   "execution_count": 2,
   "metadata": {},
   "outputs": [],
   "source": [
    "mongo = MongoDBController(\n",
    "    host=os.environ['mongodb_url'],\n",
    "    port=int(os.environ['mongodb_port']), \n",
    "    username=os.environ['mongodb_user'], \n",
    "    password=os.environ['mongodb_password']\n",
    ")"
   ]
  },
  {
   "cell_type": "code",
   "execution_count": 3,
   "metadata": {},
   "outputs": [
    {
     "data": {
      "text/html": [
       "<div>\n",
       "<style scoped>\n",
       "    .dataframe tbody tr th:only-of-type {\n",
       "        vertical-align: middle;\n",
       "    }\n",
       "\n",
       "    .dataframe tbody tr th {\n",
       "        vertical-align: top;\n",
       "    }\n",
       "\n",
       "    .dataframe thead th {\n",
       "        text-align: right;\n",
       "    }\n",
       "</style>\n",
       "<table border=\"1\" class=\"dataframe\">\n",
       "  <thead>\n",
       "    <tr style=\"text-align: right;\">\n",
       "      <th></th>\n",
       "      <th>_id</th>\n",
       "      <th>order_id</th>\n",
       "      <th>order_status</th>\n",
       "      <th>customer</th>\n",
       "      <th>order_date</th>\n",
       "      <th>order_quantity</th>\n",
       "      <th>sales</th>\n",
       "      <th>discount</th>\n",
       "      <th>discount_value</th>\n",
       "      <th>product_category</th>\n",
       "      <th>product_sub_category</th>\n",
       "    </tr>\n",
       "  </thead>\n",
       "  <tbody>\n",
       "    <tr>\n",
       "      <th>0</th>\n",
       "      <td>658bf83028aa6a4cf06eb533</td>\n",
       "      <td>3</td>\n",
       "      <td>Order Finished</td>\n",
       "      <td>Muhammed Mac Intyre</td>\n",
       "      <td>2010-10-13</td>\n",
       "      <td>6</td>\n",
       "      <td>523080</td>\n",
       "      <td>0.04</td>\n",
       "      <td>20923</td>\n",
       "      <td>Office Supplies</td>\n",
       "      <td>Storage &amp; Organization</td>\n",
       "    </tr>\n",
       "    <tr>\n",
       "      <th>1</th>\n",
       "      <td>658bf83028aa6a4cf06eb534</td>\n",
       "      <td>293</td>\n",
       "      <td>Order Finished</td>\n",
       "      <td>Barry French</td>\n",
       "      <td>2012-10-01</td>\n",
       "      <td>49</td>\n",
       "      <td>20246040</td>\n",
       "      <td>0.07</td>\n",
       "      <td>1417223</td>\n",
       "      <td>Office Supplies</td>\n",
       "      <td>Appliances</td>\n",
       "    </tr>\n",
       "    <tr>\n",
       "      <th>2</th>\n",
       "      <td>658bf83028aa6a4cf06eb535</td>\n",
       "      <td>483</td>\n",
       "      <td>Order Finished</td>\n",
       "      <td>Clay Rozendal</td>\n",
       "      <td>2011-07-10</td>\n",
       "      <td>30</td>\n",
       "      <td>9931519</td>\n",
       "      <td>0.08</td>\n",
       "      <td>794522</td>\n",
       "      <td>Technology</td>\n",
       "      <td>Telephones &amp; Communication</td>\n",
       "    </tr>\n",
       "    <tr>\n",
       "      <th>3</th>\n",
       "      <td>658bf83028aa6a4cf06eb536</td>\n",
       "      <td>515</td>\n",
       "      <td>Order Finished</td>\n",
       "      <td>Carlos Soltero</td>\n",
       "      <td>2010-08-28</td>\n",
       "      <td>19</td>\n",
       "      <td>788540</td>\n",
       "      <td>0.08</td>\n",
       "      <td>63083</td>\n",
       "      <td>Office Supplies</td>\n",
       "      <td>Appliances</td>\n",
       "    </tr>\n",
       "    <tr>\n",
       "      <th>4</th>\n",
       "      <td>658bf83028aa6a4cf06eb537</td>\n",
       "      <td>613</td>\n",
       "      <td>Order Finished</td>\n",
       "      <td>Carl Jackson</td>\n",
       "      <td>2011-06-17</td>\n",
       "      <td>12</td>\n",
       "      <td>187080</td>\n",
       "      <td>0.03</td>\n",
       "      <td>5612</td>\n",
       "      <td>Office Supplies</td>\n",
       "      <td>Binders &amp; Binder Accessories</td>\n",
       "    </tr>\n",
       "  </tbody>\n",
       "</table>\n",
       "</div>"
      ],
      "text/plain": [
       "                        _id  order_id    order_status             customer  \\\n",
       "0  658bf83028aa6a4cf06eb533         3  Order Finished  Muhammed Mac Intyre   \n",
       "1  658bf83028aa6a4cf06eb534       293  Order Finished         Barry French   \n",
       "2  658bf83028aa6a4cf06eb535       483  Order Finished        Clay Rozendal   \n",
       "3  658bf83028aa6a4cf06eb536       515  Order Finished       Carlos Soltero   \n",
       "4  658bf83028aa6a4cf06eb537       613  Order Finished         Carl Jackson   \n",
       "\n",
       "  order_date  order_quantity     sales  discount  discount_value  \\\n",
       "0 2010-10-13               6    523080      0.04           20923   \n",
       "1 2012-10-01              49  20246040      0.07         1417223   \n",
       "2 2011-07-10              30   9931519      0.08          794522   \n",
       "3 2010-08-28              19    788540      0.08           63083   \n",
       "4 2011-06-17              12    187080      0.03            5612   \n",
       "\n",
       "  product_category          product_sub_category  \n",
       "0  Office Supplies        Storage & Organization  \n",
       "1  Office Supplies                    Appliances  \n",
       "2       Technology    Telephones & Communication  \n",
       "3  Office Supplies                    Appliances  \n",
       "4  Office Supplies  Binders & Binder Accessories  "
      ]
     },
     "execution_count": 3,
     "metadata": {},
     "output_type": "execute_result"
    }
   ],
   "source": [
    "df = mongo.find_all('test_data', 'sales_performance_report')\n",
    "df.head()"
   ]
  },
  {
   "cell_type": "code",
   "execution_count": 5,
   "metadata": {},
   "outputs": [
    {
     "data": {
      "text/html": [
       "<div>\n",
       "<style scoped>\n",
       "    .dataframe tbody tr th:only-of-type {\n",
       "        vertical-align: middle;\n",
       "    }\n",
       "\n",
       "    .dataframe tbody tr th {\n",
       "        vertical-align: top;\n",
       "    }\n",
       "\n",
       "    .dataframe thead th {\n",
       "        text-align: right;\n",
       "    }\n",
       "</style>\n",
       "<table border=\"1\" class=\"dataframe\">\n",
       "  <thead>\n",
       "    <tr style=\"text-align: right;\">\n",
       "      <th></th>\n",
       "      <th>_id</th>\n",
       "      <th>order_id</th>\n",
       "      <th>order_status</th>\n",
       "      <th>customer</th>\n",
       "      <th>order_date</th>\n",
       "      <th>order_quantity</th>\n",
       "      <th>sales</th>\n",
       "      <th>discount</th>\n",
       "      <th>discount_value</th>\n",
       "      <th>product_category</th>\n",
       "      <th>product_sub_category</th>\n",
       "      <th>_year</th>\n",
       "      <th>_month</th>\n",
       "      <th>_day</th>\n",
       "    </tr>\n",
       "  </thead>\n",
       "  <tbody>\n",
       "    <tr>\n",
       "      <th>0</th>\n",
       "      <td>658bf83028aa6a4cf06eb533</td>\n",
       "      <td>3</td>\n",
       "      <td>Order Finished</td>\n",
       "      <td>Muhammed Mac Intyre</td>\n",
       "      <td>2010-10-13</td>\n",
       "      <td>6</td>\n",
       "      <td>523080</td>\n",
       "      <td>0.04</td>\n",
       "      <td>20923</td>\n",
       "      <td>Office Supplies</td>\n",
       "      <td>Storage &amp; Organization</td>\n",
       "      <td>2010</td>\n",
       "      <td>10</td>\n",
       "      <td>13</td>\n",
       "    </tr>\n",
       "    <tr>\n",
       "      <th>1</th>\n",
       "      <td>658bf83028aa6a4cf06eb534</td>\n",
       "      <td>293</td>\n",
       "      <td>Order Finished</td>\n",
       "      <td>Barry French</td>\n",
       "      <td>2012-10-01</td>\n",
       "      <td>49</td>\n",
       "      <td>20246040</td>\n",
       "      <td>0.07</td>\n",
       "      <td>1417223</td>\n",
       "      <td>Office Supplies</td>\n",
       "      <td>Appliances</td>\n",
       "      <td>2012</td>\n",
       "      <td>10</td>\n",
       "      <td>1</td>\n",
       "    </tr>\n",
       "    <tr>\n",
       "      <th>2</th>\n",
       "      <td>658bf83028aa6a4cf06eb535</td>\n",
       "      <td>483</td>\n",
       "      <td>Order Finished</td>\n",
       "      <td>Clay Rozendal</td>\n",
       "      <td>2011-07-10</td>\n",
       "      <td>30</td>\n",
       "      <td>9931519</td>\n",
       "      <td>0.08</td>\n",
       "      <td>794522</td>\n",
       "      <td>Technology</td>\n",
       "      <td>Telephones &amp; Communication</td>\n",
       "      <td>2011</td>\n",
       "      <td>7</td>\n",
       "      <td>10</td>\n",
       "    </tr>\n",
       "    <tr>\n",
       "      <th>3</th>\n",
       "      <td>658bf83028aa6a4cf06eb536</td>\n",
       "      <td>515</td>\n",
       "      <td>Order Finished</td>\n",
       "      <td>Carlos Soltero</td>\n",
       "      <td>2010-08-28</td>\n",
       "      <td>19</td>\n",
       "      <td>788540</td>\n",
       "      <td>0.08</td>\n",
       "      <td>63083</td>\n",
       "      <td>Office Supplies</td>\n",
       "      <td>Appliances</td>\n",
       "      <td>2010</td>\n",
       "      <td>8</td>\n",
       "      <td>28</td>\n",
       "    </tr>\n",
       "    <tr>\n",
       "      <th>4</th>\n",
       "      <td>658bf83028aa6a4cf06eb537</td>\n",
       "      <td>613</td>\n",
       "      <td>Order Finished</td>\n",
       "      <td>Carl Jackson</td>\n",
       "      <td>2011-06-17</td>\n",
       "      <td>12</td>\n",
       "      <td>187080</td>\n",
       "      <td>0.03</td>\n",
       "      <td>5612</td>\n",
       "      <td>Office Supplies</td>\n",
       "      <td>Binders &amp; Binder Accessories</td>\n",
       "      <td>2011</td>\n",
       "      <td>6</td>\n",
       "      <td>17</td>\n",
       "    </tr>\n",
       "  </tbody>\n",
       "</table>\n",
       "</div>"
      ],
      "text/plain": [
       "                        _id  order_id    order_status             customer  \\\n",
       "0  658bf83028aa6a4cf06eb533         3  Order Finished  Muhammed Mac Intyre   \n",
       "1  658bf83028aa6a4cf06eb534       293  Order Finished         Barry French   \n",
       "2  658bf83028aa6a4cf06eb535       483  Order Finished        Clay Rozendal   \n",
       "3  658bf83028aa6a4cf06eb536       515  Order Finished       Carlos Soltero   \n",
       "4  658bf83028aa6a4cf06eb537       613  Order Finished         Carl Jackson   \n",
       "\n",
       "  order_date  order_quantity     sales  discount  discount_value  \\\n",
       "0 2010-10-13               6    523080      0.04           20923   \n",
       "1 2012-10-01              49  20246040      0.07         1417223   \n",
       "2 2011-07-10              30   9931519      0.08          794522   \n",
       "3 2010-08-28              19    788540      0.08           63083   \n",
       "4 2011-06-17              12    187080      0.03            5612   \n",
       "\n",
       "  product_category          product_sub_category  _year  _month  _day  \n",
       "0  Office Supplies        Storage & Organization   2010      10    13  \n",
       "1  Office Supplies                    Appliances   2012      10     1  \n",
       "2       Technology    Telephones & Communication   2011       7    10  \n",
       "3  Office Supplies                    Appliances   2010       8    28  \n",
       "4  Office Supplies  Binders & Binder Accessories   2011       6    17  "
      ]
     },
     "execution_count": 5,
     "metadata": {},
     "output_type": "execute_result"
    }
   ],
   "source": [
    "df['_year'] = df['order_date'].dt.year\n",
    "df['_month'] = df['order_date'].dt.month\n",
    "df['_day'] = df['order_date'].dt.day\n",
    "df.head()"
   ]
  },
  {
   "cell_type": "code",
   "execution_count": 6,
   "metadata": {},
   "outputs": [
    {
     "name": "stdout",
     "output_type": "stream",
     "text": [
      "You are provided with historical sales data from 2009 to 2012. This data contain 3 product category which are office supplies, technology, and furniture. Each category has several sub-categories. The company also runs promotional in the form of a discount. Attribute Information:      order_id : unique order number     order_status : status of the order, whether is finished or returned     customer : customer name     order_date : date of the order     order_quantity : the quantity on a particular order     sales : sales generated on a particular order, the value is in IDR(Indonesia Rupiah) currency     discount : a discount percentage     discount_value : a sales multiply by discount, the value is in IDR(Indonesia Rupiah) currency     product_category : a category of the product     product_sub_category : a subcategory from product category\n",
      "This is the quantitative information of the table:\n",
      "<class 'pandas.core.frame.DataFrame'>\n",
      "RangeIndex: 5499 entries, 0 to 5498\n",
      "Data columns (total 10 columns):\n",
      " #   Column                Non-Null Count  Dtype  \n",
      "---  ------                --------------  -----  \n",
      " 0   order_id              5499 non-null   int64  \n",
      " 1   order_status          5499 non-null   object \n",
      " 2   customer              5499 non-null   object \n",
      " 3   order_date            5499 non-null   object \n",
      " 4   order_quantity        5499 non-null   int64  \n",
      " 5   sales                 5499 non-null   int64  \n",
      " 6   discount              5499 non-null   float64\n",
      " 7   discount_value        5499 non-null   int64  \n",
      " 8   product_category      5499 non-null   object \n",
      " 9   product_sub_category  5499 non-null   object \n",
      "dtypes: float64(1), int64(4), object(5)\n",
      "memory usage: 429.7+ KB\n",
      "\n",
      "The following is a list of categorical columns and their possible values:\n",
      "order_status: ['Order Finished', 'Order Returned', 'Order Cancelled']\n",
      "product_category: ['Office Supplies', 'Technology', 'Furniture']\n",
      "product_sub_category: ['Storage & Organization', 'Appliances', 'Telephones & Communication', 'Binders & Binder Accessories', 'Paper', 'Office Furnishings', 'Envelopes', 'Bookcases', 'Labels', 'Pens & Art Supplies', 'Copiers & Fax', 'Computer Peripherals', 'Chairs & Chairmats', 'Scissors, Rulers & Trimmers', 'Tables', 'Office Machines', 'Rubber Bands']\n",
      "\n",
      "\n"
     ]
    }
   ],
   "source": [
    "df_table_desc = mongo.find_all(os.environ['mongodb_table_descriptor'], 'test_data')\n",
    "table_desc = df_table_desc.loc[df_table_desc['collection'] == 'sales_performance_report', 'description'].iloc[0]\n",
    "print(table_desc)"
   ]
  },
  {
   "cell_type": "markdown",
   "metadata": {},
   "source": [
    "# Range"
   ]
  },
  {
   "cell_type": "code",
   "execution_count": 7,
   "metadata": {},
   "outputs": [
    {
     "data": {
      "text/plain": [
       "50"
      ]
     },
     "execution_count": 7,
     "metadata": {},
     "output_type": "execute_result"
    }
   ],
   "source": [
    "# How much is the highest order quantity for a single sales?\n",
    "df['order_quantity'].max()"
   ]
  },
  {
   "cell_type": "code",
   "execution_count": 8,
   "metadata": {},
   "outputs": [
    {
     "data": {
      "text/plain": [
       "7441778"
      ]
     },
     "execution_count": 8,
     "metadata": {},
     "output_type": "execute_result"
    }
   ],
   "source": [
    "# How much is the highest amount of discount value applied for a single sales?\n",
    "df['discount_value'].max()"
   ]
  },
  {
   "cell_type": "code",
   "execution_count": 9,
   "metadata": {},
   "outputs": [
    {
     "data": {
      "text/plain": [
       "7430"
      ]
     },
     "execution_count": 9,
     "metadata": {},
     "output_type": "execute_result"
    }
   ],
   "source": [
    "# What is the order id for the sales with the highest order quantity?\n",
    "df.loc[df['order_quantity'].idxmax(), 'order_id']"
   ]
  },
  {
   "cell_type": "code",
   "execution_count": 10,
   "metadata": {},
   "outputs": [
    {
     "data": {
      "text/plain": [
       "6460"
      ]
     },
     "execution_count": 10,
     "metadata": {},
     "output_type": "execute_result"
    }
   ],
   "source": [
    "# How much is the lowest amount for sales?\n",
    "df['sales'].min()"
   ]
  },
  {
   "cell_type": "code",
   "execution_count": 11,
   "metadata": {},
   "outputs": [
    {
     "data": {
      "text/plain": [
       "'Delfina Latchford'"
      ]
     },
     "execution_count": 11,
     "metadata": {},
     "output_type": "execute_result"
    }
   ],
   "source": [
    "# What is the name of the customer with the lowest order quantity?\n",
    "df.loc[df['order_quantity'].argmin(), 'customer']"
   ]
  },
  {
   "cell_type": "markdown",
   "metadata": {},
   "source": [
    "# Arithmetic"
   ]
  },
  {
   "cell_type": "code",
   "execution_count": 12,
   "metadata": {},
   "outputs": [
    {
     "data": {
      "text/plain": [
       "78422"
      ]
     },
     "execution_count": 12,
     "metadata": {},
     "output_type": "execute_result"
    }
   ],
   "source": [
    "# How much is the total order quantity for office supplies? (table related)\n",
    "df.loc[df['product_category'] == 'Office Supplies', 'order_quantity'].sum()"
   ]
  },
  {
   "cell_type": "code",
   "execution_count": 13,
   "metadata": {},
   "outputs": [
    {
     "data": {
      "text/plain": [
       "0.04983957219251337"
      ]
     },
     "execution_count": 13,
     "metadata": {},
     "output_type": "execute_result"
    }
   ],
   "source": [
    "# How much is the mean discount for computer peripheral sales? (table related)\n",
    "df.loc[df['product_sub_category'] == 'Computer Peripherals', 'discount'].mean()"
   ]
  },
  {
   "cell_type": "code",
   "execution_count": 14,
   "metadata": {},
   "outputs": [
    {
     "data": {
      "text/plain": [
       "5799030.34609375"
      ]
     },
     "execution_count": 14,
     "metadata": {},
     "output_type": "execute_result"
    }
   ],
   "source": [
    "# How much is the sales average for the Technology product category?\n",
    "df.loc[df['product_category'] == 'Technology', 'sales'].mean()"
   ]
  },
  {
   "cell_type": "code",
   "execution_count": 15,
   "metadata": {},
   "outputs": [
    {
     "data": {
      "text/plain": [
       "49"
      ]
     },
     "execution_count": 15,
     "metadata": {},
     "output_type": "execute_result"
    }
   ],
   "source": [
    "# How much is the difference between the highest and lowest order quantity?\n",
    "df['order_quantity'].max() - df['order_quantity'].min()"
   ]
  },
  {
   "cell_type": "code",
   "execution_count": 16,
   "metadata": {},
   "outputs": [
    {
     "data": {
      "text/plain": [
       "13701700.0"
      ]
     },
     "execution_count": 16,
     "metadata": {},
     "output_type": "execute_result"
    }
   ],
   "source": [
    "# For the sales with the highest sales value, divide the sales by its order quantity.\n",
    "idx = df['sales'].idxmax()\n",
    "df.loc[idx, 'sales'] / df.loc[idx, 'order_quantity']"
   ]
  },
  {
   "cell_type": "markdown",
   "metadata": {},
   "source": [
    "# Date"
   ]
  },
  {
   "cell_type": "code",
   "execution_count": 19,
   "metadata": {},
   "outputs": [
    {
     "data": {
      "text/plain": [
       "array(['Office Supplies', 'Furniture', 'Technology'], dtype=object)"
      ]
     },
     "execution_count": 19,
     "metadata": {},
     "output_type": "execute_result"
    }
   ],
   "source": [
    "# Give me the range of product categories that are ordered between 2012-10-01 and 2012-10-31\n",
    "df[(df['_year'] == 2012) & (df['_month'] == 10)]['product_category'].unique()"
   ]
  },
  {
   "cell_type": "code",
   "execution_count": 22,
   "metadata": {},
   "outputs": [
    {
     "data": {
      "text/plain": [
       "'Paper'"
      ]
     },
     "execution_count": 22,
     "metadata": {},
     "output_type": "execute_result"
    }
   ],
   "source": [
    "# What was the most top selling product sub category in June 2011?\n",
    "df[(df['_year'] == 2011) & (df['_month'] == 6)]['product_sub_category'].value_counts().idxmax()"
   ]
  },
  {
   "cell_type": "code",
   "execution_count": 24,
   "metadata": {},
   "outputs": [
    {
     "data": {
      "text/plain": [
       "37915"
      ]
     },
     "execution_count": 24,
     "metadata": {},
     "output_type": "execute_result"
    }
   ],
   "source": [
    "# What is the total order quantity between June 2011 and June 2012?\n",
    "df[((df['_year'] == 2011) & (df['_month'] >= 6)) | ((df['_year'] == 2012) & (df['_month'] <= 6))]['order_quantity'].sum()"
   ]
  },
  {
   "cell_type": "code",
   "execution_count": 29,
   "metadata": {},
   "outputs": [
    {
     "data": {
      "text/plain": [
       "2009"
      ]
     },
     "execution_count": 29,
     "metadata": {},
     "output_type": "execute_result"
    }
   ],
   "source": [
    "# Which year has the most total sales?\n",
    "df.groupby('_year')['sales'].sum().idxmax()"
   ]
  },
  {
   "cell_type": "code",
   "execution_count": 34,
   "metadata": {},
   "outputs": [
    {
     "data": {
      "text/plain": [
       "4535204888"
      ]
     },
     "execution_count": 34,
     "metadata": {},
     "output_type": "execute_result"
    }
   ],
   "source": [
    "# How much was the least amount of total sales in a year?\n",
    "df.groupby('_year')['sales'].sum().min()"
   ]
  },
  {
   "cell_type": "markdown",
   "metadata": {},
   "source": [
    "# Percentage"
   ]
  },
  {
   "cell_type": "code",
   "execution_count": 38,
   "metadata": {},
   "outputs": [
    {
     "data": {
      "text/plain": [
       "product_category\n",
       "Office Supplies    0.557556\n",
       "Technology         0.232770\n",
       "Furniture          0.209674\n",
       "Name: count, dtype: float64"
      ]
     },
     "execution_count": 38,
     "metadata": {},
     "output_type": "execute_result"
    }
   ],
   "source": [
    "# Give me the distribution of each product category in percentage.\n",
    "df['product_category'].value_counts() / df['product_category'].value_counts().sum()"
   ]
  },
  {
   "cell_type": "code",
   "execution_count": 39,
   "metadata": {},
   "outputs": [
    {
     "data": {
      "text/plain": [
       "0.25844538024696634"
      ]
     },
     "execution_count": 39,
     "metadata": {},
     "output_type": "execute_result"
    }
   ],
   "source": [
    "# What percentage of the total were order quantity in 2012 over all the years in the data?\n",
    "df.loc[df['_year'] == 2012, 'order_quantity'].sum() / df['order_quantity'].sum()"
   ]
  },
  {
   "cell_type": "code",
   "execution_count": 40,
   "metadata": {},
   "outputs": [
    {
     "data": {
      "text/plain": [
       "0.08492453173304237"
      ]
     },
     "execution_count": 40,
     "metadata": {},
     "output_type": "execute_result"
    }
   ],
   "source": [
    "# What is the percentage of sales that were closed in the month of October over all the years?\n",
    "df.loc[df['_month'] == 10].shape[0] / df.shape[0]"
   ]
  },
  {
   "cell_type": "code",
   "execution_count": 49,
   "metadata": {},
   "outputs": [
    {
     "data": {
      "text/plain": [
       "0.10401891252955082"
      ]
     },
     "execution_count": 49,
     "metadata": {},
     "output_type": "execute_result"
    }
   ],
   "source": [
    "# How many percentage of orders were returned? (table related)\n",
    "df['order_status'].value_counts().loc['Order Returned'] / df['order_status'].value_counts().sum()"
   ]
  },
  {
   "cell_type": "code",
   "execution_count": 50,
   "metadata": {},
   "outputs": [
    {
     "data": {
      "text/plain": [
       "product_sub_category\n",
       "Binders & Binder Accessories    0.139662\n",
       "Paper                           0.133843\n",
       "Computer Peripherals            0.102019\n",
       "Office Furnishings              0.096381\n",
       "Telephones & Communication      0.078014\n",
       "Appliances                      0.068194\n",
       "Pens & Art Supplies             0.065285\n",
       "Chairs & Chairmats              0.054737\n",
       "Storage & Organization          0.050191\n",
       "Office Machines                 0.042553\n",
       "Labels                          0.037461\n",
       "Tables                          0.032733\n",
       "Envelopes                       0.031642\n",
       "Bookcases                       0.025823\n",
       "Rubber Bands                    0.017640\n",
       "Scissors, Rulers & Trimmers     0.013639\n",
       "Copiers & Fax                   0.010184\n",
       "Name: count, dtype: float64"
      ]
     },
     "execution_count": 50,
     "metadata": {},
     "output_type": "execute_result"
    }
   ],
   "source": [
    "# Give me the distribution of each product sub category in percentage.\n",
    "df['product_sub_category'].value_counts() / df['product_sub_category'].value_counts().sum()"
   ]
  },
  {
   "cell_type": "code",
   "execution_count": null,
   "metadata": {},
   "outputs": [],
   "source": []
  }
 ],
 "metadata": {
  "kernelspec": {
   "display_name": "aseriousco",
   "language": "python",
   "name": "python3"
  },
  "language_info": {
   "codemirror_mode": {
    "name": "ipython",
    "version": 3
   },
   "file_extension": ".py",
   "mimetype": "text/x-python",
   "name": "python",
   "nbconvert_exporter": "python",
   "pygments_lexer": "ipython3",
   "version": "3.10.13"
  }
 },
 "nbformat": 4,
 "nbformat_minor": 2
}
